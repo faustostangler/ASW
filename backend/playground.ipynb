{
 "cells": [
  {
   "cell_type": "code",
   "execution_count": 1,
   "metadata": {},
   "outputs": [],
   "source": [
    "import inspect\n",
    "import winsound\n",
    "import time\n",
    "import string\n",
    "import unidecode\n",
    "import re\n",
    "import sqlite3\n",
    "import pandas as pd\n",
    "from selenium.webdriver.support import expected_conditions as EC\n",
    "from selenium.webdriver.common.by import By\n",
    "from selenium.webdriver.support.ui import Select\n",
    "from selenium.common.exceptions import TimeoutException, NoSuchElementException\n",
    "\n",
    "from config import settings\n"
   ]
  },
  {
   "cell_type": "code",
   "execution_count": 2,
   "metadata": {},
   "outputs": [],
   "source": [
    "def load_database(db_name):\n",
    "    \"\"\"\n",
    "    Load each table from the SQLite database into its own DataFrame.\n",
    "    \n",
    "    Parameters:\n",
    "    - db_name (str): The name of the SQLite database file.\n",
    "\n",
    "    Returns:\n",
    "    dict: A dictionary where each key is a table name and each value is a DataFrame containing the table's data.\n",
    "    \"\"\"\n",
    "    conn = sqlite3.connect(f'{settings.db_folder_short}/{db_name}')\n",
    "    \n",
    "    def get_table_names():\n",
    "        \"\"\"\n",
    "        Retrieves the names of all tables in the database.\n",
    "        \n",
    "        Returns:\n",
    "        list: A list of table names.\n",
    "        \"\"\"\n",
    "        cursor = conn.cursor()\n",
    "        cursor.execute(\"SELECT name FROM sqlite_master WHERE type='table';\")\n",
    "        tables = cursor.fetchall()\n",
    "        return [table[0] for table in tables]\n",
    "    \n",
    "    # Initialize a dictionary to hold DataFrames for each table\n",
    "    table_dfs = {}\n",
    "    \n",
    "    # Get the list of table names\n",
    "    table_names = get_table_names()\n",
    "    \n",
    "    # Load each table into its own DataFrame\n",
    "    for table_name in table_names:\n",
    "        query = f\"SELECT * FROM {table_name};\"\n",
    "        table_dfs[table_name] = pd.read_sql_query(query, conn)\n",
    "    \n",
    "    conn.close()\n",
    "    \n",
    "    return table_dfs\n"
   ]
  },
  {
   "cell_type": "code",
   "execution_count": 3,
   "metadata": {},
   "outputs": [
    {
     "data": {
      "text/plain": [
       "dict_keys(['company_info', 'nsd'])"
      ]
     },
     "execution_count": 3,
     "metadata": {},
     "output_type": "execute_result"
    }
   ],
   "source": [
    "table_dfs = load_database('b3.db')\n",
    "table_dfs.keys()"
   ]
  },
  {
   "cell_type": "code",
   "execution_count": 14,
   "metadata": {},
   "outputs": [
    {
     "data": {
      "text/plain": [
       "np.int64(26885)"
      ]
     },
     "execution_count": 14,
     "metadata": {},
     "output_type": "execute_result"
    }
   ],
   "source": [
    "table_dfs['nsd'].isin(settings.finsheet_types)['nsd_type'].sum()"
   ]
  },
  {
   "cell_type": "code",
   "execution_count": 16,
   "metadata": {},
   "outputs": [
    {
     "name": "stdout",
     "output_type": "stream",
     "text": [
      "grupo = Dados da Empresa\n",
      "Composição do Capital\n"
     ]
    }
   ],
   "source": [
    "findata = [['Dados da Empresa', 'Composição do Capital']]\n",
    "for grupo, quadro in findata: \n",
    "    print('grupo =', grupo)\n",
    "    print(quadro)\n"
   ]
  }
 ],
 "metadata": {
  "kernelspec": {
   "display_name": ".venv",
   "language": "python",
   "name": "python3"
  },
  "language_info": {
   "codemirror_mode": {
    "name": "ipython",
    "version": 3
   },
   "file_extension": ".py",
   "mimetype": "text/x-python",
   "name": "python",
   "nbconvert_exporter": "python",
   "pygments_lexer": "ipython3",
   "version": "3.10.6"
  }
 },
 "nbformat": 4,
 "nbformat_minor": 2
}
