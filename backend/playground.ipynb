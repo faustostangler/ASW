{
 "cells": [
  {
   "cell_type": "code",
   "execution_count": 1,
   "metadata": {},
   "outputs": [
    {
     "ename": "ModuleNotFoundError",
     "evalue": "No module named 'matplotlib'",
     "output_type": "error",
     "traceback": [
      "\u001b[1;31m---------------------------------------------------------------------------\u001b[0m",
      "\u001b[1;31mModuleNotFoundError\u001b[0m                       Traceback (most recent call last)",
      "Cell \u001b[1;32mIn[1], line 8\u001b[0m\n\u001b[0;32m      6\u001b[0m \u001b[38;5;28;01mimport\u001b[39;00m \u001b[38;5;21;01mtime\u001b[39;00m\n\u001b[0;32m      7\u001b[0m \u001b[38;5;28;01mimport\u001b[39;00m \u001b[38;5;21;01mplotly\u001b[39;00m\u001b[38;5;21;01m.\u001b[39;00m\u001b[38;5;21;01mexpress\u001b[39;00m \u001b[38;5;28;01mas\u001b[39;00m \u001b[38;5;21;01mpx\u001b[39;00m\n\u001b[1;32m----> 8\u001b[0m \u001b[38;5;28;01mimport\u001b[39;00m \u001b[38;5;21;01mmatplotlib\u001b[39;00m\u001b[38;5;21;01m.\u001b[39;00m\u001b[38;5;21;01mpyplot\u001b[39;00m \u001b[38;5;28;01mas\u001b[39;00m \u001b[38;5;21;01mplt\u001b[39;00m\n",
      "\u001b[1;31mModuleNotFoundError\u001b[0m: No module named 'matplotlib'"
     ]
    }
   ],
   "source": [
    "import config.settings as settings\n",
    "import utils.system as system\n",
    "\n",
    "import sqlite3\n",
    "import pandas as pd\n",
    "import time\n",
    "import plotly.express as px\n"
   ]
  },
  {
   "cell_type": "code",
   "execution_count": null,
   "metadata": {},
   "outputs": [],
   "source": [
    "\n",
    "db_name = 'b3 .db'\n",
    "db_name = 'b3 COMUNICACOES.db'\n",
    "db_path = 'd:\\\\Fausto Stangler\\\\Documentos\\\\Python\\\\ASW\\\\backend\\\\data\\\\' + db_name\n",
    "df_path = 'd:\\\\Fausto Stangler\\\\Documentos\\\\Python\\\\ASW\\\\backend\\\\data\\\\b3 BENS INDUSTRIAIS math.db'\n",
    "# Connect to the SQLite database\n",
    "conn = sqlite3.connect(db_path)\n",
    "\n",
    "# Read the finsheet table into a DataFrame\n",
    "query = \"SELECT * FROM finsheet\"\n",
    "df = pd.read_sql_query(query, conn)\n",
    "\n",
    "# Close the database connection\n",
    "conn.close()\n",
    "\n",
    "df['quarter'] = pd.to_datetime(df['quarter'], errors='coerce')\n",
    "df = df.dropna(subset=['quarter'])\n",
    "df.sort_values(by=['setor', 'subsetor', 'segmento', 'company_name', 'quarter', 'conta'], inplace=True)\n",
    "df['valor'] = df['valor']/10**6\n",
    "df.head(5)"
   ]
  },
  {
   "cell_type": "code",
   "execution_count": null,
   "metadata": {},
   "outputs": [],
   "source": [
    "df['company_name'].unique()\n",
    "company = 'OI SA'\n",
    "conta = '3.01'\n",
    "tipo = 'DFs Consolidadas'\n",
    "\n",
    "filter = (\n",
    "    (df['company_name'] == company) & \n",
    "    (df['conta'] == conta) & \n",
    "    (df['tipo'] == tipo)\n",
    "    )\n",
    "df_filtered = df[filter][['quarter', 'conta', 'valor']]\n",
    "\n"
   ]
  },
  {
   "cell_type": "code",
   "execution_count": null,
   "metadata": {},
   "outputs": [],
   "source": [
    "# Create the Plotly plot\n",
    "fig = px.line(df_filtered, x='quarter', y='valor', title=f'Quarterly Values for {company} - Conta {conta} (Non-zero)')\n",
    "\n",
    "# Show the plot\n",
    "fig.show()\n"
   ]
  }
 ],
 "metadata": {
  "kernelspec": {
   "display_name": ".venv",
   "language": "python",
   "name": "python3"
  },
  "language_info": {
   "codemirror_mode": {
    "name": "ipython",
    "version": 3
   },
   "file_extension": ".py",
   "mimetype": "text/x-python",
   "name": "python",
   "nbconvert_exporter": "python",
   "pygments_lexer": "ipython3",
   "version": "3.10.6"
  }
 },
 "nbformat": 4,
 "nbformat_minor": 2
}
