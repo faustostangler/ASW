{
 "cells": [
  {
   "cell_type": "code",
   "execution_count": 1,
   "metadata": {},
   "outputs": [],
   "source": [
    "import config.settings as settings\n",
    "import utils.system as system\n"
   ]
  },
  {
   "cell_type": "code",
   "execution_count": 6,
   "metadata": {},
   "outputs": [],
   "source": [
    "import os\n",
    "import glob\n",
    "import time\n",
    "import sqlite3\n",
    "import pandas as pd\n",
    "from config import settings\n",
    "from utils import system\n"
   ]
  },
  {
   "cell_type": "code",
   "execution_count": 2,
   "metadata": {},
   "outputs": [],
   "source": [
    "def load_db(db_file, columns=settings.cols_b3, cols=settings.cols_order):\n",
    "    \"\"\"\n",
    "    Load data from an SQLite database into a DataFrame.\n",
    "    \n",
    "    This function connects to the specified SQLite database, reads the data from the \n",
    "    'finsheet' table into a DataFrame, converts the 'quarter' column to datetime format \n",
    "    and the 'version' column to numeric format. It also removes rows with empty values \n",
    "    in specified columns.\n",
    "\n",
    "    Parameters:\n",
    "    - db_file (str): Path to the SQLite database file.\n",
    "    - cols (list): List of columns to check for empty values. Defaults to ['quarter', 'conta', 'valor', 'version'].\n",
    "\n",
    "    Returns:\n",
    "    - DataFrame: A DataFrame containing the data from the 'finsheet' table.\n",
    "    \"\"\"\n",
    "    try:\n",
    "        # Establish a connection to the SQLite database file\n",
    "        conn = sqlite3.connect(db_file)\n",
    "        \n",
    "        # Read data from the 'finsheet' table into a DataFrame\n",
    "        df = pd.read_sql_query(\"SELECT * FROM finsheet\", conn)\n",
    "\n",
    "        # Close the database connection\n",
    "        conn.close()\n",
    "        \n",
    "        # Convert the 'quarter' column to datetime format, handling errors by setting invalid parsing to NaT\n",
    "        df['quarter'] = pd.to_datetime(df['quarter'], errors='coerce')\n",
    "        \n",
    "        # Convert the 'version' column to numeric format, filling invalid parsing with -1 and converting to integer\n",
    "        df['version'] = pd.to_numeric(df['version'], errors='coerce').fillna(-1).astype(int)\n",
    "\n",
    "        # Remove rows with empty values in specified columns\n",
    "        for col in cols:\n",
    "            try:\n",
    "                # Strip any whitespace from the column values and filter out empty strings\n",
    "                df = df[df[col].str.strip() != \"\"]\n",
    "            except Exception as e:\n",
    "                # If an exception occurs (e.g., column not found), it is ignored and processing continues\n",
    "                pass\n",
    "\n",
    "        # Remove rows with empty 'company_name' values after converting to string and stripping whitespace\n",
    "        df = df[df['company_name'].astype(str).str.strip() != \"\"]\n",
    "\n",
    "        # Return the cleaned DataFrame\n",
    "        return df\n",
    "    except Exception as e:\n",
    "        # Log any exceptions that occur during the process\n",
    "        # system.log_error(e)\n",
    "        return pd.DataFrame(columns=columns)\n"
   ]
  },
  {
   "cell_type": "code",
   "execution_count": 4,
   "metadata": {},
   "outputs": [],
   "source": [
    "db_file = 'd:\\\\Fausto Stangler\\\\Documentos\\\\Python\\\\ASW\\\\backend\\\\data\\\\b3 .db'"
   ]
  },
  {
   "cell_type": "code",
   "execution_count": 8,
   "metadata": {},
   "outputs": [],
   "source": [
    "df_math = load_db(db_file.replace('.db', ' math.db'))\n"
   ]
  },
  {
   "cell_type": "code",
   "execution_count": 30,
   "metadata": {},
   "outputs": [],
   "source": [
    "company_name = 'EVORA SA'\n",
    "tipo = 'DFs Consolidadas'\n",
    "conta = '3.01'\n",
    "quarter = '2014-12-31'\n",
    "version = 2\n",
    "valor = 2e+09 / 1000\n",
    "\n",
    "filter = (df_math['company_name'] == company_name)\n",
    "filter &= (df_math['tipo'] == tipo)\n",
    "filter &= (df_math['conta'] == conta)\n",
    "filter &= (df_math['quarter'] == quarter)\n",
    "\n",
    "df_math.loc[filter, 'version'] = version\n",
    "df_math.loc[filter, 'valor'] = valor\n"
   ]
  },
  {
   "cell_type": "code",
   "execution_count": 31,
   "metadata": {},
   "outputs": [
    {
     "data": {
      "text/html": [
       "<div>\n",
       "<style scoped>\n",
       "    .dataframe tbody tr th:only-of-type {\n",
       "        vertical-align: middle;\n",
       "    }\n",
       "\n",
       "    .dataframe tbody tr th {\n",
       "        vertical-align: top;\n",
       "    }\n",
       "\n",
       "    .dataframe thead th {\n",
       "        text-align: right;\n",
       "    }\n",
       "</style>\n",
       "<table border=\"1\" class=\"dataframe\">\n",
       "  <thead>\n",
       "    <tr style=\"text-align: right;\">\n",
       "      <th></th>\n",
       "      <th>nsd</th>\n",
       "      <th>tipo</th>\n",
       "      <th>setor</th>\n",
       "      <th>subsetor</th>\n",
       "      <th>segmento</th>\n",
       "      <th>company_name</th>\n",
       "      <th>quadro</th>\n",
       "      <th>quarter</th>\n",
       "      <th>conta</th>\n",
       "      <th>descricao</th>\n",
       "      <th>valor</th>\n",
       "      <th>version</th>\n",
       "    </tr>\n",
       "  </thead>\n",
       "  <tbody>\n",
       "    <tr>\n",
       "      <th>26083</th>\n",
       "      <td>44223</td>\n",
       "      <td>DFs Consolidadas</td>\n",
       "      <td></td>\n",
       "      <td></td>\n",
       "      <td></td>\n",
       "      <td>EVORA SA</td>\n",
       "      <td>Demonstração do Resultado</td>\n",
       "      <td>2014-12-31</td>\n",
       "      <td>3.01</td>\n",
       "      <td>Receita de Venda de Bens e/ou Serviços</td>\n",
       "      <td>2000000.0</td>\n",
       "      <td>2</td>\n",
       "    </tr>\n",
       "  </tbody>\n",
       "</table>\n",
       "</div>"
      ],
      "text/plain": [
       "         nsd              tipo setor subsetor segmento company_name  \\\n",
       "26083  44223  DFs Consolidadas                             EVORA SA   \n",
       "\n",
       "                          quadro    quarter conta  \\\n",
       "26083  Demonstração do Resultado 2014-12-31  3.01   \n",
       "\n",
       "                                    descricao      valor  version  \n",
       "26083  Receita de Venda de Bens e/ou Serviços  2000000.0        2  "
      ]
     },
     "execution_count": 31,
     "metadata": {},
     "output_type": "execute_result"
    }
   ],
   "source": [
    "df_math[filter]"
   ]
  },
  {
   "cell_type": "code",
   "execution_count": 19,
   "metadata": {},
   "outputs": [
    {
     "data": {
      "text/plain": [
       "array(['DFs Consolidadas', 'DFs Individuais', 'Dados da Empresa'],\n",
       "      dtype=object)"
      ]
     },
     "execution_count": 19,
     "metadata": {},
     "output_type": "execute_result"
    }
   ],
   "source": [
    "df_math[filter]['tipo'].unique()"
   ]
  },
  {
   "cell_type": "code",
   "execution_count": null,
   "metadata": {},
   "outputs": [],
   "source": []
  },
  {
   "cell_type": "code",
   "execution_count": 4,
   "metadata": {},
   "outputs": [],
   "source": [
    "def b3_math(df, conta_prefix):\n",
    "    \"\"\"\n",
    "    Apply B3 math calculations to the DataFrame.\n",
    "\n",
    "    Parameters:\n",
    "    - df (DataFrame): DataFrame to apply calculations on.\n",
    "    - conta_prefix (str): Prefix of 'conta' to determine calculation logic.\n",
    "\n",
    "    Returns:\n",
    "    - DataFrame: DataFrame with updated values based on B3 math calculations.\n",
    "    \"\"\"\n",
    "    try:\n",
    "        # Initialize dictionaries to store indices and values for each quarter\n",
    "        indices = {'March': None, 'June': None, 'September': None, 'December': None}\n",
    "        values = {'March': 0, 'June': 0, 'September': 0, 'December': 0}\n",
    "\n",
    "        # Define mapping of month to quarter names\n",
    "        month_to_quarter = {3: 'March', 6: 'June', 9: 'September', 12: 'December'}\n",
    "\n",
    "        # Iterate through each quarter to find max value and index\n",
    "        for month, quarter_name in month_to_quarter.items():\n",
    "            try:\n",
    "                df_quarter = df[df['quarter'].dt.month == month]\n",
    "                if not df_quarter.empty:\n",
    "                    indices[quarter_name] = df_quarter.index[0]\n",
    "                    values[quarter_name] = df_quarter['valor'].max()\n",
    "            except Exception as e:\n",
    "                system.log_error(e)\n",
    "\n",
    "        # Extract indices and values\n",
    "        i3, v3 = indices['March'], values['March']\n",
    "        i6, v6 = indices['June'], values['June']\n",
    "        i9, v9 = indices['September'], values['September']\n",
    "        i12, v12 = indices['December'], values['December']\n",
    "\n",
    "        # Apply B3 math logic based on quarter identifiers\n",
    "        def apply_b3_math_logic(v3, v6, v9, v12, conta_prefix, settings, df):\n",
    "            try:\n",
    "                if conta_prefix in settings.last_quarters:\n",
    "                    v12 -= (v9 + v6 + v3)\n",
    "                elif conta_prefix in settings.all_quarters:\n",
    "                    v6 -= v3\n",
    "                    v9 -= (v6 + v3)\n",
    "                    v12 -= (v9 + v6 + v3)\n",
    "            except Exception as e:\n",
    "                system.log_error(e)\n",
    "            return v3, v6, v9, v12\n",
    "\n",
    "        # Apply the logic and update values\n",
    "        v3, v6, v9, v12 = apply_b3_math_logic(v3, v6, v9, v12, conta_prefix, settings, df)\n",
    "        def update_dataframe(df, indices, values):\n",
    "            for quarter, idx in indices.items():\n",
    "                if idx is not None:\n",
    "                    df.loc[idx, 'valor'] = values[quarter]\n",
    "\n",
    "        # Update DataFrame with new values\n",
    "        indices = {'March': i3, 'June': i6, 'September': i9, 'December': i12}\n",
    "        values = {'March': v3, 'June': v6, 'September': v9, 'December': v12}\n",
    "        update_dataframe(df, indices, values)\n",
    "\n",
    "        return df\n",
    "    except Exception as e:\n",
    "        system.log_error(e)\n",
    "        return df\n",
    "\n",
    "def save_db(df, db_file):\n",
    "    \"\"\"\n",
    "    Save the transformed DataFrame back to the database with a 'math' suffix.\n",
    "\n",
    "    Parameters:\n",
    "    - df (DataFrame): The transformed DataFrame.\n",
    "    - db_file (str): Path to the original database file.\n",
    "    \"\"\"\n",
    "    try:\n",
    "        # Create a new database file name with a 'math' suffix\n",
    "        math_db_file = db_file.replace('.db', ' math.db')\n",
    "        conn = sqlite3.connect(math_db_file)\n",
    "        # Save the DataFrame to the new database file\n",
    "        df.to_sql('finsheet', conn, if_exists='replace', index=False)\n",
    "        conn.close()\n",
    "        print(f\"Saved transformed data to {math_db_file}\")\n",
    "    except Exception as e:\n",
    "        system.log_error(e)"
   ]
  },
  {
   "cell_type": "markdown",
   "metadata": {},
   "source": [
    "## plots"
   ]
  },
  {
   "cell_type": "code",
   "execution_count": null,
   "metadata": {},
   "outputs": [],
   "source": [
    "import config.settings as settings\n",
    "import utils.system as system\n",
    "\n",
    "import sqlite3\n",
    "import pandas as pd\n",
    "import time\n",
    "import plotly.express as px\n"
   ]
  },
  {
   "cell_type": "code",
   "execution_count": null,
   "metadata": {},
   "outputs": [],
   "source": [
    "\n",
    "db_name = 'b3 .db'\n",
    "db_name = 'b3 COMUNICACOES.db'\n",
    "db_path = 'd:\\\\Fausto Stangler\\\\Documentos\\\\Python\\\\ASW\\\\backend\\\\data\\\\' + db_name\n",
    "db_path = 'd:\\\\Fausto Stangler\\\\Documentos\\\\Python\\\\ASW\\\\backend\\\\data\\\\b3  math.db'\n",
    "# Connect to the SQLite database\n",
    "conn = sqlite3.connect(db_path)\n",
    "\n",
    "# Read the finsheet table into a DataFrame\n",
    "query = \"SELECT * FROM finsheet\"\n",
    "df = pd.read_sql_query(query, conn)\n",
    "\n",
    "# Close the database connection\n",
    "conn.close()\n",
    "\n",
    "df['quarter'] = pd.to_datetime(df['quarter'], errors='coerce')\n",
    "df = df.dropna(subset=['quarter'])\n",
    "df = df[df['quarter'] > pd.to_datetime('2010-12-31')]\n",
    "\n",
    "df.sort_values(by=['setor', 'subsetor', 'segmento', 'company_name', 'quarter', 'conta'], inplace=True)\n",
    "df['valor'] = df['valor']/10**6\n",
    "df.head(5)"
   ]
  },
  {
   "cell_type": "code",
   "execution_count": null,
   "metadata": {},
   "outputs": [],
   "source": [
    "df['company_name'].unique()"
   ]
  },
  {
   "cell_type": "code",
   "execution_count": null,
   "metadata": {},
   "outputs": [],
   "source": [
    "df['company_name'].unique()\n",
    "company = 'CREMER SA'\n",
    "conta = '3.01'\n",
    "tipo = 'DFs Consolidadas'\n",
    "\n",
    "filter = (\n",
    "    (df['company_name'] == company) & \n",
    "    (df['conta'] == conta) & \n",
    "    (df['tipo'] == tipo)\n",
    "    )\n",
    "df_filtered = df[filter][['quarter', 'conta', 'valor']]\n",
    "# Create the Plotly plot\n",
    "fig = px.line(df_filtered, x='quarter', y='valor', title=f'Quarterly Values for {company} - Conta {conta}')\n",
    "\n",
    "# Show the plot\n",
    "fig.show()\n",
    "\n",
    "df_filtered\n"
   ]
  }
 ],
 "metadata": {
  "kernelspec": {
   "display_name": ".venv",
   "language": "python",
   "name": "python3"
  },
  "language_info": {
   "codemirror_mode": {
    "name": "ipython",
    "version": 3
   },
   "file_extension": ".py",
   "mimetype": "text/x-python",
   "name": "python",
   "nbconvert_exporter": "python",
   "pygments_lexer": "ipython3",
   "version": "3.10.6"
  }
 },
 "nbformat": 4,
 "nbformat_minor": 2
}
